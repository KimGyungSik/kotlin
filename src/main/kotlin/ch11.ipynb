{
 "cells": [
  {
   "cell_type": "code",
   "execution_count": 4,
   "outputs": [
    {
     "name": "stdout",
     "output_type": "stream",
     "text": [
      "30, Kkkang\r\n"
     ]
    }
   ],
   "source": [
    "data class User(val name:String, val age:Int)\n",
    "\n",
    "var user = User(age=30,name=\"Kkkang\")\n",
    "\n",
    "val (age,name) = user\n",
    "\n",
    "println(\"$name, $age\")"
   ],
   "metadata": {
    "collapsed": false,
    "ExecuteTime": {
     "end_time": "2024-07-01T02:45:54.326637400Z",
     "start_time": "2024-07-01T02:45:54.108050300Z"
    }
   }
  },
  {
   "cell_type": "markdown",
   "source": [
    "첫번쨰 프로퍼티에는 component1()함수를 반환한 데이터를, 두번쨰 프로퍼티에는 component2() 함수가 반환한 데이터를 대입"
   ],
   "metadata": {
    "collapsed": false
   }
  },
  {
   "cell_type": "code",
   "execution_count": 5,
   "outputs": [
    {
     "name": "stdout",
     "output_type": "stream",
     "text": [
      "User(name=kim, age=30)\r\n",
      "User(name=kim, age=10)\r\n"
     ]
    }
   ],
   "source": [
    "data class User(val name:String,val age:Int)\n",
    "\n",
    "var user1 = User(age=30,name=\"kim\")\n",
    "println(user1.toString())\n",
    "var user2 = user1.copy(age = 10)\n",
    "\n",
    "\n",
    "println(user2.toString())\n"
   ],
   "metadata": {
    "collapsed": false,
    "ExecuteTime": {
     "end_time": "2024-07-01T02:52:00.832742Z",
     "start_time": "2024-07-01T02:52:00.571371400Z"
    }
   }
  },
  {
   "cell_type": "code",
   "execution_count": 8,
   "outputs": [
    {
     "name": "stdout",
     "output_type": "stream",
     "text": [
      "no : 0,north\r\n",
      "no : NORTH,0\r\n",
      "no : 1,kim\r\n"
     ]
    }
   ],
   "source": [
    "enum class Direction(var no:Int, var str:String) {\n",
    "    NORTH(0,\"north\"),SOUTH(1,\"south\"),WEST(2,\"west\"),EAST(3,\"eaes\")\n",
    "}\n",
    "\n",
    "val direction:Direction = Direction.NORTH\n",
    "\n",
    "println(\"no : ${direction.no},${direction.str}\")\n",
    "println(\"no : ${direction.name},${direction.ordinal}\")\n",
    "\n",
    "direction.no = 1\n",
    "direction.str = \"kim\"\n",
    "println(\"no : ${direction.no},${direction.str}\")\n",
    "\n",
    "\n"
   ],
   "metadata": {
    "collapsed": false,
    "ExecuteTime": {
     "end_time": "2024-07-01T03:00:46.651152800Z",
     "start_time": "2024-07-01T03:00:46.394845400Z"
    }
   }
  },
  {
   "cell_type": "code",
   "execution_count": 9,
   "outputs": [
    {
     "name": "stdout",
     "output_type": "stream",
     "text": [
      "20\r\n",
      "SOUTH.....\r\n"
     ]
    }
   ],
   "source": [
    "enum class Direction {\n",
    "    NORTH {\n",
    "        override val data1: Int\n",
    "            get() = 10\n",
    "\n",
    "        override fun myFun() {\n",
    "            println(\"NORTH.....\")\n",
    "        }\n",
    "    },\n",
    "    SOUTH {\n",
    "        override val data1: Int\n",
    "            get() = 20\n",
    "\n",
    "        override fun myFun() {\n",
    "            println(\"SOUTH.....\")\n",
    "        }\n",
    "    };\n",
    "    abstract val data1:Int\n",
    "    abstract fun myFun()\n",
    "}\n",
    "\n",
    "val direction:Direction = Direction.SOUTH\n",
    "println(direction.data1)\n",
    "direction.myFun()"
   ],
   "metadata": {
    "collapsed": false,
    "ExecuteTime": {
     "end_time": "2024-07-01T03:06:58.992273Z",
     "start_time": "2024-07-01T03:06:58.732826500Z"
    }
   }
  },
  {
   "cell_type": "code",
   "execution_count": null,
   "outputs": [
    {
     "name": "stdout",
     "output_type": "stream",
     "text": [
      "kim\r\n",
      "1.0\r\n",
      "Line_15_jupyter$Shape$Rect@6e6af44b\r\n"
     ]
    }
   ],
   "source": [
    "sealed class Shape {\n",
    "    class Circle(val radius:Double):Shape()\n",
    "    class Rect(val width:Int,val height:Int):Shape()\n",
    "    \n",
    "    open val name:String = \"kim\"\n",
    "    fun check(className:String):Shape {\n",
    "        if(className == \"Circle\"){\n",
    "            return Circle(1.0)\n",
    "        }else {\n",
    "            return Rect(10,10)\n",
    "        }\n",
    "    }\n",
    "}\n",
    "\n",
    "class Triangle(val bottom:Int,val height:Int):Shape()\n",
    "\n",
    "println(Shape.Circle(1.0).name)\n",
    "println(Shape.Circle(1.0).radius)\n",
    "\n",
    "val shape:Shape = Shape.Circle(2.0)\n",
    "val rect:Shape = shape.check(\"rect\")\n",
    "println(rect.toString())\n",
    "\n"
   ],
   "metadata": {
    "collapsed": false,
    "is_executing": true,
    "ExecuteTime": {
     "start_time": "2024-07-01T03:36:39.544959100Z"
    }
   }
  },
  {
   "cell_type": "code",
   "execution_count": null,
   "outputs": [
    {
     "name": "stdout",
     "output_type": "stream",
     "text": [
      "true\r\n"
     ]
    }
   ],
   "source": [
    "class Outer {\n",
    "    private var no:Int = 0\n",
    "    \n",
    "    private val myInner = object {\n",
    "        val name:String =\"kkang\"\n",
    "        fun innerFun() {\n",
    "            println(\"innerFun\")\n",
    "            no++\n",
    "        }\n",
    "    }\n",
    "    \n",
    "    fun outerFun() {\n",
    "        myInner.name\n",
    "        myInner.innerFun()\n",
    "    }\n",
    "    \n",
    "    fun typeCheck():Boolean {\n",
    "        return myInner is Any \n",
    "    }\n",
    "}\n",
    "\n",
    "val obj = Outer()\n",
    "\n",
    "println(obj.typeCheck())"
   ],
   "metadata": {
    "collapsed": false,
    "is_executing": true,
    "ExecuteTime": {
     "start_time": "2024-07-01T09:30:03.401315200Z"
    }
   }
  },
  {
   "cell_type": "code",
   "execution_count": null,
   "outputs": [
    {
     "name": "stdout",
     "output_type": "stream",
     "text": [
      "interfaceFun\r\n"
     ]
    }
   ],
   "source": [
    "interface SomeInterface {\n",
    "    fun interfaceFun()\n",
    "}\n",
    "\n",
    "open class SomeClass {\n",
    "    fun someClassFun() {\n",
    "        println(\"someClassFun\")\n",
    "    }\n",
    "}\n",
    "\n",
    "class Outer {\n",
    "    val myInner:SomeInterface = object : SomeInterface,SomeClass() {\n",
    "        override fun interfaceFun() {\n",
    "            println(\"interfaceFun\")\n",
    "        }\n",
    "    }\n",
    "    fun typeCheck():Boolean {\n",
    "        return myInner is SomeInterface \n",
    "    }\n",
    "}\n",
    "\n",
    "val obj = Outer()\n",
    "obj.myInner.interfaceFun()\n"
   ],
   "metadata": {
    "collapsed": false,
    "is_executing": true,
    "ExecuteTime": {
     "start_time": "2024-07-01T09:50:39.901616400Z"
    }
   }
  },
  {
   "cell_type": "code",
   "execution_count": null,
   "outputs": [],
   "source": [
    "class Outer {\n",
    "    companion object NestedClass {\n",
    "        val no:Int = 0\n",
    "        fun myFun() {}\n",
    "    }\n",
    "    \n",
    "    fun myFun() {\n",
    "        no \n",
    "        myFun()\n",
    "    }\n",
    "}\n",
    "\n",
    "Outer.NestedClass.no\n",
    "Outer.NestedClass.myFun()\n",
    "\n",
    "Outer.no\n",
    "Outer.myFun()"
   ],
   "metadata": {
    "collapsed": false,
    "is_executing": true,
    "ExecuteTime": {
     "start_time": "2024-07-01T10:13:36.589386400Z"
    }
   }
  },
  {
   "cell_type": "code",
   "execution_count": null,
   "outputs": [
    {
     "name": "stdout",
     "output_type": "stream",
     "text": [
      "20\r\n"
     ]
    }
   ],
   "source": [
    "val sum1 = {x1:Int,x2:Int -> x1+x2}\n",
    "\n",
    "val result = sum1(10,10)\n",
    "println(result)"
   ],
   "metadata": {
    "collapsed": false,
    "is_executing": true,
    "ExecuteTime": {
     "start_time": "2024-07-01T10:55:11.491471300Z"
    }
   }
  },
  {
   "cell_type": "code",
   "execution_count": null,
   "outputs": [
    {
     "name": "stdout",
     "output_type": "stream",
     "text": [
      "100\r\n"
     ]
    }
   ],
   "source": [
    "//val lambdaFun: (Int)->Int = {x -> x*10}\n",
    "\n",
    "\n",
    "val lambdaFun: (Int)->Int = {it*10}\n",
    "\n",
    "println(lambdaFun(10))"
   ],
   "metadata": {
    "collapsed": false,
    "is_executing": true,
    "ExecuteTime": {
     "start_time": "2024-07-01T11:14:29.184233500Z"
    }
   }
  }
 ],
 "metadata": {
  "kernelspec": {
   "display_name": "Kotlin",
   "language": "kotlin",
   "name": "kotlin"
  },
  "language_info": {
   "name": "kotlin",
   "version": "1.9.0",
   "mimetype": "text/x-kotlin",
   "file_extension": ".kt",
   "pygments_lexer": "kotlin",
   "codemirror_mode": "text/x-kotlin",
   "nbconvert_exporter": ""
  }
 },
 "nbformat": 4,
 "nbformat_minor": 0
}
