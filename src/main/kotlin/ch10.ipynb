{
 "cells": [
  {
   "cell_type": "code",
   "execution_count": 1,
   "metadata": {
    "collapsed": true,
    "ExecuteTime": {
     "end_time": "2024-06-28T09:03:00.089625300Z",
     "start_time": "2024-06-28T09:02:59.839771500Z"
    }
   },
   "outputs": [
    {
     "name": "stdout",
     "output_type": "stream",
     "text": [
      "kim\r\n"
     ]
    }
   ],
   "source": [
    "class myFun1() {\n",
    "    val data1:String = \"kim\"\n",
    "}\n",
    "\n",
    "val obj = myFun1()\n",
    "println(obj.data1)"
   ]
  },
  {
   "cell_type": "markdown",
   "source": [],
   "metadata": {
    "collapsed": false
   }
  },
  {
   "cell_type": "markdown",
   "source": [],
   "metadata": {
    "collapsed": false
   }
  },
  {
   "cell_type": "code",
   "execution_count": 3,
   "outputs": [
    {
     "name": "stdout",
     "output_type": "stream",
     "text": [
      "kkang\r\n",
      "kikm\r\n"
     ]
    }
   ],
   "source": [
    "abstract class AbstractTest2 {\n",
    "    val data1: String = \"kkang\"\n",
    "    abstract val data2: String // 추상 프로퍼티\n",
    "}\n",
    "\n",
    "class Sub: AbstractTest2() {\n",
    "    override val data2: String = \"kikm\" // 하위에서 구현해야함\n",
    "}\n",
    "\n",
    "//val obj = AbstractTest2() 에러\n",
    "val obj = Sub()\n",
    "println(obj.data1)\n",
    "println(obj.data2)"
   ],
   "metadata": {
    "collapsed": false,
    "ExecuteTime": {
     "end_time": "2024-06-28T09:29:22.212640400Z",
     "start_time": "2024-06-28T09:29:21.991436600Z"
    }
   }
  },
  {
   "cell_type": "markdown",
   "source": [
    "추상 프로퍼티와 추상 클래스"
   ],
   "metadata": {
    "collapsed": false
   }
  },
  {
   "cell_type": "code",
   "execution_count": 4,
   "outputs": [
    {
     "name": "stdout",
     "output_type": "stream",
     "text": [
      "data1 : 0, data2 : 0, data3 : false\r\n",
      "data1 : 25, data2 : 0, data3 : true\r\n"
     ]
    }
   ],
   "source": [
    "interface MyInterface9 {\n",
    "    var data1: Int\n",
    "    \n",
    "    var data2: Int\n",
    "        get() = 0\n",
    "        set(value) {\n",
    "            if(value>0)\n",
    "                calData(value)\n",
    "        }\n",
    "    \n",
    "    val data3:Boolean\n",
    "        get() {\n",
    "            if(data1>0) return true\n",
    "            else return false\n",
    "        }\n",
    "    \n",
    "    private fun calData(arg:Int) {\n",
    "        data1 = arg*arg\n",
    "    }\n",
    "}\n",
    "\n",
    "class MyClass9:MyInterface9 {\n",
    "    override var data1: Int = 0\n",
    "}\n",
    "\n",
    "val obj = MyClass9()\n",
    "println(\"data1 : ${obj.data1}, data2 : ${obj.data2}, data3 : ${obj.data3}\")\n",
    "obj.data2 = 5\n",
    "println(\"data1 : ${obj.data1}, data2 : ${obj.data2}, data3 : ${obj.data3}\")"
   ],
   "metadata": {
    "collapsed": false,
    "ExecuteTime": {
     "end_time": "2024-06-28T09:56:54.215612500Z",
     "start_time": "2024-06-28T09:56:53.726067500Z"
    }
   }
  },
  {
   "cell_type": "markdown",
   "source": [
    "인터페이스와 프로퍼티 \n",
    "field를 사용할 수 없는 프로퍼티를 만든다는 것은 프로퍼티의 값을 유지하거나 변경하는 용도로는 사용할 수 없음"
   ],
   "metadata": {
    "collapsed": false
   }
  },
  {
   "cell_type": "code",
   "execution_count": 6,
   "outputs": [
    {
     "name": "stdout",
     "output_type": "stream",
     "text": [
      "Sub3 funA..\r\n"
     ]
    }
   ],
   "source": [
    "interface Interface3 {\n",
    "    fun funA(){\n",
    "        println(\"Interface funA..\")\n",
    "    }\n",
    "}\n",
    "\n",
    "abstract class Super3 {\n",
    "    abstract fun funA()\n",
    "}\n",
    "\n",
    "class Sub:Super3(),Interface3 {\n",
    "    override fun funA() {\n",
    "        super.funA()\n",
    "        println(\"Sub3 funA..\")\n",
    "    }\n",
    "    fun some() {\n",
    "        super.funA()\n",
    "    }\n",
    "}\n",
    "\n",
    "val obj = Sub()\n",
    "obj.funA()\n",
    "obj.some()"
   ],
   "metadata": {
    "collapsed": false,
    "ExecuteTime": {
     "end_time": "2024-06-28T12:04:05.204281700Z",
     "start_time": "2024-06-28T12:04:04.972668800Z"
    }
   }
  },
  {
   "cell_type": "markdown",
   "source": [
    "같은 이름의 추상 함수와 구현된 함수가 있을떄"
   ],
   "metadata": {
    "collapsed": false
   }
  },
  {
   "cell_type": "markdown",
   "source": [],
   "metadata": {
    "collapsed": false
   }
  },
  {
   "cell_type": "code",
   "execution_count": 7,
   "outputs": [
    {
     "name": "stdout",
     "output_type": "stream",
     "text": [
      "interface4 funA/./\r\n",
      "interface5 funA...\r\n",
      "interface5 funA...\r\n"
     ]
    }
   ],
   "source": [
    "interface Interface4 {\n",
    "    fun funA() {\n",
    "        println(\"interface4 funA/./\")\n",
    "    }\n",
    "}\n",
    "\n",
    "interface Interface5 {\n",
    "    fun funA() {\n",
    "        println(\"interface5 funA...\")\n",
    "    }\n",
    "}\n",
    "\n",
    "class Sub4:Interface4,Interface5 {\n",
    "    override fun funA() {\n",
    "        super<Interface4>.funA()\n",
    "        super<Interface5>.funA()\n",
    "    }\n",
    "    \n",
    "    fun some() {\n",
    "        super<Interface5>.funA()\n",
    "    }\n",
    "}\n",
    "\n",
    "val obj = Sub4()\n",
    "obj.funA()\n",
    "obj.some()"
   ],
   "metadata": {
    "collapsed": false,
    "ExecuteTime": {
     "end_time": "2024-06-28T12:18:12.798419300Z",
     "start_time": "2024-06-28T12:18:12.354046400Z"
    }
   }
  },
  {
   "cell_type": "markdown",
   "source": [
    "같은 이름으로 구현된 함수가 여러 개일떄"
   ],
   "metadata": {
    "collapsed": false
   }
  },
  {
   "cell_type": "code",
   "execution_count": 10,
   "outputs": [
    {
     "name": "stdout",
     "output_type": "stream",
     "text": [
      "jj, 2\r\n"
     ]
    }
   ],
   "source": [
    "class User(val name:String, val age:Int) {\n",
    "    fun print() {\n",
    "        println(\"$name, $age\")\n",
    "    }\n",
    "}\n",
    "\n",
    "var obj = User(\"kim\",1)\n",
    "obj.print()"
   ],
   "metadata": {
    "collapsed": false,
    "ExecuteTime": {
     "end_time": "2024-06-28T12:34:06.450564Z",
     "start_time": "2024-06-28T12:34:06.189960600Z"
    }
   }
  },
  {
   "cell_type": "code",
   "execution_count": 2,
   "outputs": [
    {
     "name": "stdout",
     "output_type": "stream",
     "text": [
      "kim\r\n"
     ]
    }
   ],
   "source": [
    "val myVal1:Any = \"kim\"\n",
    "val myVal2 : String = myVal1 as String\n",
    "println(myVal2)\n",
    "//val myVal4 : Any = myVal2 as Any\n",
    "\n",
    "\n",
    "//println(myVal4)"
   ],
   "metadata": {
    "collapsed": false,
    "ExecuteTime": {
     "end_time": "2024-07-02T09:50:55.688284800Z",
     "start_time": "2024-07-02T09:50:55.485684400Z"
    }
   }
  },
  {
   "cell_type": "code",
   "execution_count": null,
   "outputs": [],
   "source": [
    "open class Super private constructor(name:String) {\n",
    "    constructor(name:String,no:Int):this(name)\n",
    "}\n",
    "\n",
    "class Sub2:Super {\n",
    "    constructor(name:String,no:Int): super(name,no) {}\n",
    "}"
   ],
   "metadata": {
    "collapsed": false
   }
  },
  {
   "cell_type": "code",
   "execution_count": 7,
   "outputs": [
    {
     "name": "stdout",
     "output_type": "stream",
     "text": [
      "100\r\n",
      "kim\r\n",
      "kkang\r\n"
     ]
    }
   ],
   "source": [
    "interface MotorVehicle {\n",
    "    val fuel: Int\n",
    "        get() = 100\n",
    "    fun type() {\n",
    "        println(\"kim\")\n",
    "    }\n",
    "}\n",
    "\n",
    "class MyCar : MotorVehicle {\n",
    "    override fun type() {\n",
    "        super.type()\n",
    "        println(\"kkang\")\n",
    "    }\n",
    "}\n",
    "\n",
    "    val myCar = MyCar()\n",
    "    println(myCar.fuel) // 100\n",
    "    myCar.type() // Mercedes-Benz"
   ],
   "metadata": {
    "collapsed": false,
    "ExecuteTime": {
     "end_time": "2024-07-03T09:35:50.302839100Z",
     "start_time": "2024-07-03T09:35:50.001584600Z"
    }
   }
  },
  {
   "cell_type": "code",
   "execution_count": null,
   "outputs": [],
   "source": [
    "sealed class Result {\n",
    "    data class Success(val message: String) : Result()\n",
    "    data class Error(val errorMessage: String) : Result()\n",
    "    object Loading : Result()\n",
    "}\n",
    "fun processResult(result: Result) {\n",
    "    when (result) {\n",
    "        is Result.Success -> {\n",
    "            println(\"Success: ${result.message}\")\n",
    "        }\n",
    "        is Result.Error -> {\n",
    "            println(\"Error: ${result.errorMessage}\")\n",
    "        }\n",
    "        is Result.Loading -> {\n",
    "            println(\"Loading...\")\n",
    "        }\n",
    "        else -> {\n",
    "            println(\"ssss\")\n",
    "        }\n",
    "    }\n",
    "}\n",
    "\n",
    "var obj = Result.Loading\n",
    "var obj2 = Result.Success(\"sucess\")\n"
   ],
   "metadata": {
    "collapsed": false
   }
  },
  {
   "cell_type": "markdown",
   "source": [
    "Sealed Class 예제"
   ],
   "metadata": {
    "collapsed": false
   }
  },
  {
   "cell_type": "code",
   "execution_count": 10,
   "outputs": [
    {
     "name": "stdout",
     "output_type": "stream",
     "text": [
      "obj.hashCode(): 1272963399\r\n",
      "obj2.hashCode(): 2005414107\r\n",
      "v.hashCode(): 1281215251\r\n",
      "v2.hashCode(): 1281215251\r\n"
     ]
    }
   ],
   "source": [
    "interface SomeInterface {}\n",
    "interface SomeInterface1 {}\n",
    "interface SomeInterface2 {}\n",
    "\n",
    "class Outer {\n",
    "    val myInner: SomeInterface = object : SomeInterface,SomeInterface2,SomeInterface1 {\n",
    "            val name:String = \"kim\"\n",
    "    }\n",
    "    \n",
    "    fun joiu(){\n",
    "    }\n",
    "}\n",
    "\n",
    "val obj = Outer()\n",
    "val obj2 = Outer()\n",
    "println(\"obj.hashCode(): ${obj.myInner.hashCode()}\")\n",
    "println(\"obj2.hashCode(): ${obj2.myInner.hashCode()}\")\n",
    "\n",
    "object Test {}\n",
    "\n",
    " val v = Test\n",
    "    println(\"v.hashCode(): ${v.hashCode()}\")\n",
    "    val v2 = Test\n",
    "    println(\"v2.hashCode(): ${v2.hashCode()}\")"
   ],
   "metadata": {
    "collapsed": false,
    "ExecuteTime": {
     "end_time": "2024-07-03T11:14:35.892384Z",
     "start_time": "2024-07-03T11:14:35.499968400Z"
    }
   }
  },
  {
   "cell_type": "markdown",
   "source": [
    "이름이 없는 object클래스는 새로운 객체를 생성, 이름이 있는 object클래스는 싱글톤"
   ],
   "metadata": {
    "collapsed": false
   }
  },
  {
   "cell_type": "code",
   "execution_count": 11,
   "outputs": [
    {
     "name": "stdout",
     "output_type": "stream",
     "text": [
      "v.hashCode(): 86775588\r\n",
      "v2.hashCode(): 86775588\r\n"
     ]
    }
   ],
   "source": [
    "class Outer {\n",
    "    object NestedClass {\n",
    "        val no:Int = 0\n",
    "        fun myFun() {}\n",
    "    }\n",
    "}\n",
    "\n",
    "val v = Outer.NestedClass\n",
    "println(\"v.hashCode(): ${v.hashCode()}\")\n",
    "val v2 = Outer.NestedClass\n",
    "println(\"v2.hashCode(): ${v2.hashCode()}\")\n",
    "\n",
    "\n",
    "val obj1 = object {\n",
    "    var no1:Int = 10\n",
    "}\n",
    "\n",
    "println(\"obj.hashCode(): ${obj1.hashCode()}\")\n"
   ],
   "metadata": {
    "collapsed": false,
    "ExecuteTime": {
     "end_time": "2024-07-03T11:19:01.855884Z",
     "start_time": "2024-07-03T11:19:01.592406300Z"
    }
   }
  }
 ],
 "metadata": {
  "kernelspec": {
   "display_name": "Kotlin",
   "language": "kotlin",
   "name": "kotlin"
  },
  "language_info": {
   "name": "kotlin",
   "version": "1.9.0",
   "mimetype": "text/x-kotlin",
   "file_extension": ".kt",
   "pygments_lexer": "kotlin",
   "codemirror_mode": "text/x-kotlin",
   "nbconvert_exporter": ""
  }
 },
 "nbformat": 4,
 "nbformat_minor": 0
}
