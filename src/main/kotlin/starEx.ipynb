{
 "cells": [
  {
   "cell_type": "code",
   "execution_count": 1,
   "metadata": {
    "collapsed": true,
    "ExecuteTime": {
     "end_time": "2024-07-04T02:39:15.396297Z",
     "start_time": "2024-07-04T02:39:14.674852600Z"
    }
   },
   "outputs": [
    {
     "name": "stdout",
     "output_type": "stream",
     "text": [
      "*****\r\n",
      "*****\r\n",
      "*****\r\n",
      "*****\r\n",
      "*****\r\n"
     ]
    }
   ],
   "source": [
    "for(i in 1..5) {\n",
    "    for(j in 1..5) {\n",
    "        print(\"*\")\n",
    "    }\n",
    "    println()\n",
    "}"
   ]
  },
  {
   "cell_type": "code",
   "execution_count": 8,
   "outputs": [
    {
     "name": "stdout",
     "output_type": "stream",
     "text": [
      "*    \r\n",
      " *   \r\n",
      "  *  \r\n",
      "   * \r\n",
      "    *\r\n"
     ]
    }
   ],
   "source": [
    "for(i in 1..5) {\n",
    "    for(j in 1..5) {\n",
    "        if(i==j)\n",
    "            print(\"*\")\n",
    "        else \n",
    "            print(\" \")\n",
    "    }\n",
    "    println()\n",
    "}"
   ],
   "metadata": {
    "collapsed": false,
    "ExecuteTime": {
     "end_time": "2024-07-04T03:04:16.383981900Z",
     "start_time": "2024-07-04T03:04:16.154186800Z"
    }
   }
  },
  {
   "cell_type": "code",
   "execution_count": 9,
   "outputs": [
    {
     "name": "stdout",
     "output_type": "stream",
     "text": [
      "    *\r\n",
      "   * \r\n",
      "  *  \r\n",
      " *   \r\n",
      "*    \r\n"
     ]
    }
   ],
   "source": [
    "for(i in 1..5) {\n",
    "    for(j in 1..5) {\n",
    "        if(i+j==6)\n",
    "            print(\"*\")\n",
    "        else \n",
    "            print(\" \")\n",
    "    }\n",
    "    println()\n",
    "}"
   ],
   "metadata": {
    "collapsed": false,
    "ExecuteTime": {
     "end_time": "2024-07-04T05:35:11.968061200Z",
     "start_time": "2024-07-04T05:35:11.735213700Z"
    }
   }
  },
  {
   "cell_type": "code",
   "execution_count": 10,
   "outputs": [
    {
     "name": "stdout",
     "output_type": "stream",
     "text": [
      "*   *\r\n",
      " * * \r\n",
      "  *  \r\n",
      " * * \r\n",
      "*   *\r\n"
     ]
    }
   ],
   "source": [
    "for(i in 1..5) {\n",
    "    for(j in 1..5) {\n",
    "        if(i+j==6||i==j)\n",
    "            print(\"*\")\n",
    "        else \n",
    "            print(\" \")\n",
    "    }\n",
    "    println()\n",
    "}"
   ],
   "metadata": {
    "collapsed": false,
    "ExecuteTime": {
     "end_time": "2024-07-04T05:38:56.199851800Z",
     "start_time": "2024-07-04T05:38:55.955975200Z"
    }
   }
  },
  {
   "cell_type": "code",
   "execution_count": 11,
   "outputs": [
    {
     "name": "stdout",
     "output_type": "stream",
     "text": [
      "*\r\n",
      "**\r\n",
      "***\r\n",
      "****\r\n",
      "*****\r\n"
     ]
    }
   ],
   "source": [
    "for(i in 1..5) {\n",
    "    for(j in 1..i) {\n",
    "            print(\"*\")\n",
    "    }\n",
    "    println()\n",
    "}"
   ],
   "metadata": {
    "collapsed": false,
    "ExecuteTime": {
     "end_time": "2024-07-04T05:47:46.961765100Z",
     "start_time": "2024-07-04T05:47:46.810921600Z"
    }
   }
  },
  {
   "cell_type": "code",
   "execution_count": 12,
   "outputs": [
    {
     "name": "stdout",
     "output_type": "stream",
     "text": [
      "    *\r\n",
      "   **\r\n",
      "  ***\r\n",
      " ****\r\n",
      "*****\r\n"
     ]
    }
   ],
   "source": [
    "for(i in 1..5) {\n",
    "    for(j in 1..5) {\n",
    "        if(i+j>=6)\n",
    "            print(\"*\")\n",
    "        else \n",
    "            print(\" \")\n",
    "    }\n",
    "    println()\n",
    "}"
   ],
   "metadata": {
    "collapsed": false,
    "ExecuteTime": {
     "end_time": "2024-07-04T05:55:09.094394500Z",
     "start_time": "2024-07-04T05:55:08.854145800Z"
    }
   }
  },
  {
   "cell_type": "code",
   "execution_count": 13,
   "outputs": [
    {
     "name": "stdout",
     "output_type": "stream",
     "text": [
      "******\r\n",
      "*******\r\n",
      "********\r\n",
      "*********\r\n",
      "**********\r\n"
     ]
    }
   ],
   "source": [
    "for(i in 1..5) {\n",
    "    for(j in 1..i+5) {\n",
    "            print(\"*\")\n",
    "    }\n",
    "    println()\n",
    "}"
   ],
   "metadata": {
    "collapsed": false,
    "ExecuteTime": {
     "end_time": "2024-07-04T06:13:33.395209800Z",
     "start_time": "2024-07-04T06:13:33.177611600Z"
    }
   }
  },
  {
   "cell_type": "code",
   "execution_count": 24,
   "outputs": [
    {
     "name": "stdout",
     "output_type": "stream",
     "text": [
      "    *     \r\n",
      "   ***    \r\n",
      "  *****   \r\n",
      " *******  \r\n",
      "********* \r\n"
     ]
    }
   ],
   "source": [
    "for(i in 1..5) {\n",
    "    for(j in 1..10) {\n",
    "        if(i+j>=6&&j<=i+4)\n",
    "            print(\"*\")\n",
    "        else \n",
    "            print(\" \")\n",
    "    }\n",
    "    println()\n",
    "}"
   ],
   "metadata": {
    "collapsed": false,
    "ExecuteTime": {
     "end_time": "2024-07-04T06:36:34.274010400Z",
     "start_time": "2024-07-04T06:36:34.049358900Z"
    }
   }
  },
  {
   "cell_type": "code",
   "execution_count": 45,
   "outputs": [
    {
     "name": "stdout",
     "output_type": "stream",
     "text": [
      "*****\r\n",
      " *** \r\n",
      "  *  \r\n",
      " *** \r\n",
      "*****\r\n"
     ]
    }
   ],
   "source": [
    "for(i in 1..5) {\n",
    "    for(j in 1..5) {\n",
    "        if((i+j<6&&i>j)||(i+j>6&&i<j))\n",
    "            print(\" \")\n",
    "        else \n",
    "            print(\"*\")\n",
    "    }\n",
    "    println()\n",
    "}"
   ],
   "metadata": {
    "collapsed": false,
    "ExecuteTime": {
     "end_time": "2024-07-04T07:05:35.097851300Z",
     "start_time": "2024-07-04T07:05:34.912384700Z"
    }
   }
  },
  {
   "cell_type": "code",
   "execution_count": 47,
   "outputs": [
    {
     "name": "stdout",
     "output_type": "stream",
     "text": [
      "*   *\r\n",
      "** **\r\n",
      "*****\r\n",
      "** **\r\n",
      "*   *\r\n"
     ]
    }
   ],
   "source": [
    "for(i in 1..5) {\n",
    "    for(j in 1..5) {\n",
    "        if((i+j<=6&&i>=j)||(i+j>=6&&i<=j))\n",
    "            print(\"*\")\n",
    "        else \n",
    "            print(\" \")\n",
    "    }\n",
    "    println()\n",
    "}"
   ],
   "metadata": {
    "collapsed": false,
    "ExecuteTime": {
     "end_time": "2024-07-04T07:09:28.494789100Z",
     "start_time": "2024-07-04T07:09:28.315001200Z"
    }
   }
  }
 ],
 "metadata": {
  "kernelspec": {
   "display_name": "Kotlin",
   "language": "kotlin",
   "name": "kotlin"
  },
  "language_info": {
   "name": "kotlin",
   "version": "1.9.0",
   "mimetype": "text/x-kotlin",
   "file_extension": ".kt",
   "pygments_lexer": "kotlin",
   "codemirror_mode": "text/x-kotlin",
   "nbconvert_exporter": ""
  }
 },
 "nbformat": 4,
 "nbformat_minor": 0
}
